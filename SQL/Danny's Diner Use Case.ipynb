{
 "cells": [
  {
   "cell_type": "markdown",
   "metadata": {
    "application/vnd.databricks.v1+cell": {
     "cellMetadata": {},
     "inputWidgets": {},
     "nuid": "4d007e12-03f1-4b02-8708-0b5e6cdada02",
     "showTitle": false,
     "title": ""
    }
   },
   "source": [
    "#### Case Study #1 - Danny's Diner\n",
    "\n",
    "![Image Alt Text](https://8weeksqlchallenge.com/images/case-study-designs/1.png)\n",
    "\n",
    "# Introduction\n",
    "\n",
    "Danny seriously loves Japanese food so in the beginning of 2021, he decides to embark upon a risky venture and opens up a cute little restaurant that sells his 3 favourite foods: sushi, curry and ramen.\n",
    "\n",
    "Danny’s Diner is in need of your assistance to help the restaurant stay afloat - the restaurant has captured some very basic data from their few months of operation but have no idea how to use their data to help them run the business.\n",
    "\n",
    "# Problem Statement\n",
    "\n",
    "Danny wants to use the data to answer a few simple questions about his customers, especially about their visiting patterns, how much money they’ve spent and also which menu items are their favourite. Having this deeper connection with his customers will help him deliver a better and more personalised experience for his loyal customers.\n",
    "\n",
    "He plans on using these insights to help him decide whether he should expand the existing customer loyalty program - additionally he needs help to generate some basic datasets so his team can easily inspect the data without needing to use SQL.\n",
    "\n",
    "Danny has provided you with a sample of his overall customer data due to privacy issues - but he hopes that these examples are enough for you to write fully functioning SQL queries to help him answer his questions!\n",
    "\n",
    "Danny has shared with you 3 key datasets for this case study:\n",
    "\n",
    "1. ***sales***\n",
    "2. ***menu***\n",
    "3. ***members***\n",
    "\n",
    "You can inspect the entity relationship diagram and example data below.\n",
    "\n",
    "[Database Diagram Click to see ERD](https://dbdiagram.io/d/Copy-of-Dannys-Diner-65c25789ac844320ae93b439)\n",
    "\n",
    "\n",
    "# Example Datasets\n",
    "\n",
    "All datasets exist within the ***dannys_diner*** database schema - be sure to include this reference within your SQL scripts as you start exploring the data and answering the case study questions.\n",
    "\n",
    "# Table 1: sales\n",
    "\n",
    "The ***sales*** table captures all ***customer_id*** level purchases with an corresponding ***order_date*** and ***product_id*** information for when and what menu items were ordered.\n",
    "\n",
    "| customer_id | order_date | product_id |\n",
    "|-------------|------------|------------|\n",
    "| A           | 2021-01-01 | 1          |\n",
    "| A           | 2021-01-01 | 2          |\n",
    "| A           | 2021-01-07 | 2          |\n",
    "| A           | 2021-01-10 | 3          |\n",
    "| A           | 2021-01-11 | 3          |\n",
    "| A           | 2021-01-11 | 3          |\n",
    "| B           | 2021-01-01 | 2          |\n",
    "| B           | 2021-01-02 | 2          |\n",
    "| B           | 2021-01-04 | 1          |\n",
    "| B           | 2021-01-11 | 1          |\n",
    "| B           | 2021-01-16 | 3          |\n",
    "| B           | 2021-02-01 | 3          |\n",
    "| C           | 2021-01-01 | 3          |\n",
    "| C           | 2021-01-01 | 3          |\n",
    "| C           | 2021-01-07 | 3          |\n",
    "\n",
    "\n",
    "# Table 2: menu\n",
    "\n",
    "The ***menu*** table maps the ***product_id*** to the actual ***product_name*** and ***price*** of each menu item.\n",
    "\n",
    "| product_id | product_name | price |\n",
    "|------------|--------------|-------|\n",
    "| 1          | sushi        | 10    |\n",
    "| 2          | curry        | 15    |\n",
    "| 3          | ramen        | 12    |\n",
    "\n",
    "# Table 3: members\n",
    "\n",
    "The final ***members*** table captures the ***join_date*** when a ***customer_id*** joined the beta version of the Danny’s Diner loyalty program.\n",
    "\n",
    "| customer_id | join_date |\n",
    "|-------------|-----------|\n",
    "| A           | 2021-01-07|\n",
    "| B           | 2021-01-09|\n",
    "\n"
   ]
  },
  {
   "cell_type": "code",
   "execution_count": 0,
   "metadata": {
    "application/vnd.databricks.v1+cell": {
     "cellMetadata": {
      "byteLimit": 2048000,
      "implicitDf": true,
      "rowLimit": 10000
     },
     "inputWidgets": {},
     "nuid": "c4588697-c386-49f0-a3d0-0420968053b6",
     "showTitle": false,
     "title": ""
    }
   },
   "outputs": [
    {
     "output_type": "display_data",
     "data": {
      "text/html": [
       "<style scoped>\n",
       "  .table-result-container {\n",
       "    max-height: 300px;\n",
       "    overflow: auto;\n",
       "  }\n",
       "  table, th, td {\n",
       "    border: 1px solid black;\n",
       "    border-collapse: collapse;\n",
       "  }\n",
       "  th, td {\n",
       "    padding: 5px;\n",
       "  }\n",
       "  th {\n",
       "    text-align: left;\n",
       "  }\n",
       "</style><div class='table-result-container'><table class='table-result'><thead style='background-color: white'><tr><th>num_affected_rows</th><th>num_inserted_rows</th></tr></thead><tbody><tr><td>2</td><td>2</td></tr></tbody></table></div>"
      ]
     },
     "metadata": {
      "application/vnd.databricks.v1+output": {
       "addedWidgets": {},
       "aggData": [],
       "aggError": "",
       "aggOverflow": false,
       "aggSchema": [],
       "aggSeriesLimitReached": false,
       "aggType": "",
       "arguments": {},
       "columnCustomDisplayInfos": {},
       "data": [
        [
         2,
         2
        ]
       ],
       "datasetInfos": [],
       "dbfsResultPath": null,
       "isJsonSchema": true,
       "metadata": {
        "dataframeName": "_sqldf",
        "executionCount": 5
       },
       "overflow": false,
       "plotOptions": {
        "customPlotOptions": {},
        "displayType": "table",
        "pivotAggregation": null,
        "pivotColumns": null,
        "xColumns": null,
        "yColumns": null
       },
       "removedWidgets": [],
       "schema": [
        {
         "metadata": "{}",
         "name": "num_affected_rows",
         "type": "\"long\""
        },
        {
         "metadata": "{}",
         "name": "num_inserted_rows",
         "type": "\"long\""
        }
       ],
       "type": "table"
      }
     },
     "output_type": "display_data"
    }
   ],
   "source": [
    "%sql\n",
    "\n",
    "-- CREATE SCHEMA dannys_diner; {use this is postgtres}\n",
    "-- SET search_path = dannys_diner; {use this is postgtres}\n",
    "\n",
    "\n",
    "CREATE DATABASE IF NOT EXISTS dd\n",
    "LOCATION 'dbfs:/user/hive/warehouse/dd.db'; --{use this is databricks}\n",
    "USE dd; --{use this is databricks}\n",
    "\n",
    "CREATE TABLE IF NOT EXISTS sales (\n",
    "  customer_id VARCHAR(1),\n",
    "  order_date DATE,\n",
    "  product_id INTEGER\n",
    ");\n",
    "\n",
    "INSERT INTO sales\n",
    "  VALUES\n",
    "  ('A', '2021-01-01', 1),\n",
    "  ('A', '2021-01-01', 2),\n",
    "  ('A', '2021-01-07', 2),\n",
    "  ('A', '2021-01-10', 3),\n",
    "  ('A', '2021-01-11', 3),\n",
    "  ('A', '2021-01-11', 3),\n",
    "  ('B', '2021-01-01', 2),\n",
    "  ('B', '2021-01-02', 2),\n",
    "  ('B', '2021-01-04', 1),\n",
    "  ('B', '2021-01-11', 1),\n",
    "  ('B', '2021-01-16', 3),\n",
    "  ('B', '2021-02-01', 3),\n",
    "  ('C', '2021-01-01', 3),\n",
    "  ('C', '2021-01-01', 3),\n",
    "  ('C', '2021-01-07', 3);\n",
    "\n",
    "CREATE TABLE IF NOT EXISTS menu (\n",
    "  product_id INTEGER,\n",
    "  product_name VARCHAR(5),\n",
    "  price INTEGER\n",
    ");\n",
    "\n",
    "INSERT INTO menu\n",
    "  VALUES\n",
    "  (1, 'sushi', 10),\n",
    "  (2, 'curry', 15),\n",
    "  (3, 'ramen', 12);\n",
    "\n",
    "CREATE TABLE IF NOT EXISTS members (\n",
    "  customer_id VARCHAR(1),\n",
    "  join_date DATE\n",
    ");\n",
    "\n",
    "INSERT INTO members\n",
    "  VALUES\n",
    "  ('A', '2021-01-07'),\n",
    "  ('B', '2021-01-09');\n"
   ]
  },
  {
   "cell_type": "markdown",
   "metadata": {
    "application/vnd.databricks.v1+cell": {
     "cellMetadata": {},
     "inputWidgets": {},
     "nuid": "059caf93-d0f1-4bc9-853d-ccc5af21b424",
     "showTitle": false,
     "title": ""
    }
   },
   "source": [
    "# Case Study Questions\n",
    "\n",
    "Each of the following case study questions can be answered using a single SQL statement:\n",
    "\n",
    "1. What is the total amount each customer spent at the restaurant?\n",
    "2. How many days has each customer visited the restaurant?\n",
    "3. What was the first item from the menu purchased by each customer?\n",
    "4. What is the most purchased item on the menu and how many times was it purchased by all customers?\n",
    "5. Which item was the most popular for each customer?\n",
    "6. Which item was purchased first by the customer after they became a member?\n",
    "7. Which item was purchased just before the customer became a member?\n",
    "8. What is the total items and amount spent for each member before they became a member?\n",
    "9. If each $1 spent equates to 10 points and sushi has a 2x points multiplier - how many points would each customer have?\n",
    "10. In the first week after a customer joins the program (including their join date) they earn 2x points on all items, not just sushi - how many points do customer A and B have at the end of January?"
   ]
  },
  {
   "cell_type": "code",
   "execution_count": 0,
   "metadata": {
    "application/vnd.databricks.v1+cell": {
     "cellMetadata": {
      "byteLimit": 2048000,
      "implicitDf": true,
      "rowLimit": 10000
     },
     "inputWidgets": {},
     "nuid": "cd2cc8d4-efc1-49f3-9115-8227855b5c02",
     "showTitle": false,
     "title": ""
    }
   },
   "outputs": [
    {
     "output_type": "display_data",
     "data": {
      "text/html": [
       "<style scoped>\n",
       "  .table-result-container {\n",
       "    max-height: 300px;\n",
       "    overflow: auto;\n",
       "  }\n",
       "  table, th, td {\n",
       "    border: 1px solid black;\n",
       "    border-collapse: collapse;\n",
       "  }\n",
       "  th, td {\n",
       "    padding: 5px;\n",
       "  }\n",
       "  th {\n",
       "    text-align: left;\n",
       "  }\n",
       "</style><div class='table-result-container'><table class='table-result'><thead style='background-color: white'><tr><th>customer_id</th><th>total_amount_spend</th></tr></thead><tbody><tr><td>A</td><td>76</td></tr><tr><td>B</td><td>74</td></tr><tr><td>C</td><td>36</td></tr></tbody></table></div>"
      ]
     },
     "metadata": {
      "application/vnd.databricks.v1+output": {
       "addedWidgets": {},
       "aggData": [],
       "aggError": "",
       "aggOverflow": false,
       "aggSchema": [],
       "aggSeriesLimitReached": false,
       "aggType": "",
       "arguments": {},
       "columnCustomDisplayInfos": {},
       "data": [
        [
         "A",
         76
        ],
        [
         "B",
         74
        ],
        [
         "C",
         36
        ]
       ],
       "datasetInfos": [],
       "dbfsResultPath": null,
       "isJsonSchema": true,
       "metadata": {
        "dataframeName": "_sqldf",
        "executionCount": 11
       },
       "overflow": false,
       "plotOptions": {
        "customPlotOptions": {},
        "displayType": "table",
        "pivotAggregation": null,
        "pivotColumns": null,
        "xColumns": null,
        "yColumns": null
       },
       "removedWidgets": [],
       "schema": [
        {
         "metadata": "{\"__CHAR_VARCHAR_TYPE_STRING\":\"varchar(1)\"}",
         "name": "customer_id",
         "type": "\"string\""
        },
        {
         "metadata": "{}",
         "name": "total_amount_spend",
         "type": "\"long\""
        }
       ],
       "type": "table"
      }
     },
     "output_type": "display_data"
    }
   ],
   "source": [
    "%sql\n",
    "-- Q1. What is the total amount each customer spent at the restaurant?\n",
    "\n",
    "SELECT\n",
    "  s.customer_id,\n",
    "  SUM(m.price) as total_amount_spend\n",
    "FROM dannys_diner.sales s\n",
    "LEFT JOIN dannys_diner.menu m\n",
    "ON s.product_id = m.product_id\n",
    "GROUP BY s.customer_id\n",
    "ORDER BY s.customer_id;"
   ]
  },
  {
   "cell_type": "code",
   "execution_count": 0,
   "metadata": {
    "application/vnd.databricks.v1+cell": {
     "cellMetadata": {
      "byteLimit": 2048000,
      "implicitDf": true,
      "rowLimit": 10000
     },
     "inputWidgets": {},
     "nuid": "5f611393-be07-4f11-8822-1330c6d3297f",
     "showTitle": false,
     "title": ""
    }
   },
   "outputs": [
    {
     "output_type": "display_data",
     "data": {
      "text/html": [
       "<style scoped>\n",
       "  .table-result-container {\n",
       "    max-height: 300px;\n",
       "    overflow: auto;\n",
       "  }\n",
       "  table, th, td {\n",
       "    border: 1px solid black;\n",
       "    border-collapse: collapse;\n",
       "  }\n",
       "  th, td {\n",
       "    padding: 5px;\n",
       "  }\n",
       "  th {\n",
       "    text-align: left;\n",
       "  }\n",
       "</style><div class='table-result-container'><table class='table-result'><thead style='background-color: white'><tr><th>customer_id</th><th>days_visted</th></tr></thead><tbody><tr><td>B</td><td>6</td></tr><tr><td>A</td><td>4</td></tr><tr><td>C</td><td>2</td></tr></tbody></table></div>"
      ]
     },
     "metadata": {
      "application/vnd.databricks.v1+output": {
       "addedWidgets": {},
       "aggData": [],
       "aggError": "",
       "aggOverflow": false,
       "aggSchema": [],
       "aggSeriesLimitReached": false,
       "aggType": "",
       "arguments": {},
       "columnCustomDisplayInfos": {},
       "data": [
        [
         "B",
         6
        ],
        [
         "A",
         4
        ],
        [
         "C",
         2
        ]
       ],
       "datasetInfos": [],
       "dbfsResultPath": null,
       "isJsonSchema": true,
       "metadata": {
        "dataframeName": "_sqldf",
        "executionCount": 12
       },
       "overflow": false,
       "plotOptions": {
        "customPlotOptions": {},
        "displayType": "table",
        "pivotAggregation": null,
        "pivotColumns": null,
        "xColumns": null,
        "yColumns": null
       },
       "removedWidgets": [],
       "schema": [
        {
         "metadata": "{\"__CHAR_VARCHAR_TYPE_STRING\":\"varchar(1)\"}",
         "name": "customer_id",
         "type": "\"string\""
        },
        {
         "metadata": "{}",
         "name": "days_visted",
         "type": "\"long\""
        }
       ],
       "type": "table"
      }
     },
     "output_type": "display_data"
    }
   ],
   "source": [
    "%sql\n",
    "\n",
    "--Q2. How many days has each customer visited the restaurant?\n",
    "\n",
    "SELECT\n",
    "  customer_id,\n",
    "  count(DISTINCT order_date) as days_visted\n",
    "FROM dannys_diner.sales\n",
    "GROUP BY customer_id\n",
    "ORDER BY days_visted DESC;"
   ]
  },
  {
   "cell_type": "code",
   "execution_count": 0,
   "metadata": {
    "application/vnd.databricks.v1+cell": {
     "cellMetadata": {
      "byteLimit": 2048000,
      "implicitDf": true,
      "rowLimit": 10000
     },
     "inputWidgets": {},
     "nuid": "311cd4d6-bce9-4e42-8563-67e77791720f",
     "showTitle": false,
     "title": ""
    }
   },
   "outputs": [
    {
     "output_type": "display_data",
     "data": {
      "text/html": [
       "<style scoped>\n",
       "  .table-result-container {\n",
       "    max-height: 300px;\n",
       "    overflow: auto;\n",
       "  }\n",
       "  table, th, td {\n",
       "    border: 1px solid black;\n",
       "    border-collapse: collapse;\n",
       "  }\n",
       "  th, td {\n",
       "    padding: 5px;\n",
       "  }\n",
       "  th {\n",
       "    text-align: left;\n",
       "  }\n",
       "</style><div class='table-result-container'><table class='table-result'><thead style='background-color: white'><tr><th>customer_id</th><th>product_name</th></tr></thead><tbody><tr><td>A</td><td>sushi</td></tr><tr><td>B</td><td>curry</td></tr><tr><td>C</td><td>ramen</td></tr></tbody></table></div>"
      ]
     },
     "metadata": {
      "application/vnd.databricks.v1+output": {
       "addedWidgets": {},
       "aggData": [],
       "aggError": "",
       "aggOverflow": false,
       "aggSchema": [],
       "aggSeriesLimitReached": false,
       "aggType": "",
       "arguments": {},
       "columnCustomDisplayInfos": {},
       "data": [
        [
         "A",
         "sushi"
        ],
        [
         "B",
         "curry"
        ],
        [
         "C",
         "ramen"
        ]
       ],
       "datasetInfos": [],
       "dbfsResultPath": null,
       "isJsonSchema": true,
       "metadata": {
        "dataframeName": "_sqldf",
        "executionCount": 19
       },
       "overflow": false,
       "plotOptions": {
        "customPlotOptions": {},
        "displayType": "table",
        "pivotAggregation": null,
        "pivotColumns": null,
        "xColumns": null,
        "yColumns": null
       },
       "removedWidgets": [],
       "schema": [
        {
         "metadata": "{\"__CHAR_VARCHAR_TYPE_STRING\":\"varchar(1)\"}",
         "name": "customer_id",
         "type": "\"string\""
        },
        {
         "metadata": "{\"__CHAR_VARCHAR_TYPE_STRING\":\"varchar(5)\"}",
         "name": "product_name",
         "type": "\"string\""
        }
       ],
       "type": "table"
      }
     },
     "output_type": "display_data"
    }
   ],
   "source": [
    "%sql\n",
    "\n",
    "--Q3. What was the first item from the menu purchased by each customer?\n",
    "-- Note instead of order date if we had order datetime this would be more accurate\n",
    "\n",
    "WITH ranked_sales AS (\n",
    "  SELECT \n",
    "    s.customer_id,\n",
    "    m.product_name,\n",
    "    row_number() OVER (PARTITION BY s.customer_id ORDER BY s.order_date) AS rwnum\n",
    "  FROM \n",
    "    dannys_diner.sales s\n",
    "  LEFT JOIN \n",
    "    dannys_diner.menu m\n",
    "  ON \n",
    "    s.product_id = m.product_id\n",
    ")\n",
    "\n",
    "SELECT\n",
    "  customer_id,\n",
    "  product_name\n",
    "FROM ranked_sales\n",
    "WHERE rwnum = 1;"
   ]
  },
  {
   "cell_type": "code",
   "execution_count": 0,
   "metadata": {
    "application/vnd.databricks.v1+cell": {
     "cellMetadata": {
      "byteLimit": 2048000,
      "implicitDf": true,
      "rowLimit": 10000
     },
     "inputWidgets": {},
     "nuid": "ae5bbef1-e265-492c-a186-ff79335d7e27",
     "showTitle": false,
     "title": ""
    }
   },
   "outputs": [
    {
     "output_type": "display_data",
     "data": {
      "text/html": [
       "<style scoped>\n",
       "  .table-result-container {\n",
       "    max-height: 300px;\n",
       "    overflow: auto;\n",
       "  }\n",
       "  table, th, td {\n",
       "    border: 1px solid black;\n",
       "    border-collapse: collapse;\n",
       "  }\n",
       "  th, td {\n",
       "    padding: 5px;\n",
       "  }\n",
       "  th {\n",
       "    text-align: left;\n",
       "  }\n",
       "</style><div class='table-result-container'><table class='table-result'><thead style='background-color: white'><tr><th>product_name</th><th>total_purchases</th></tr></thead><tbody><tr><td>ramen</td><td>8</td></tr></tbody></table></div>"
      ]
     },
     "metadata": {
      "application/vnd.databricks.v1+output": {
       "addedWidgets": {},
       "aggData": [],
       "aggError": "",
       "aggOverflow": false,
       "aggSchema": [],
       "aggSeriesLimitReached": false,
       "aggType": "",
       "arguments": {},
       "columnCustomDisplayInfos": {},
       "data": [
        [
         "ramen",
         8
        ]
       ],
       "datasetInfos": [],
       "dbfsResultPath": null,
       "isJsonSchema": true,
       "metadata": {
        "dataframeName": "_sqldf",
        "executionCount": 22
       },
       "overflow": false,
       "plotOptions": {
        "customPlotOptions": {},
        "displayType": "table",
        "pivotAggregation": null,
        "pivotColumns": null,
        "xColumns": null,
        "yColumns": null
       },
       "removedWidgets": [],
       "schema": [
        {
         "metadata": "{\"__CHAR_VARCHAR_TYPE_STRING\":\"varchar(5)\"}",
         "name": "product_name",
         "type": "\"string\""
        },
        {
         "metadata": "{}",
         "name": "total_purchases",
         "type": "\"long\""
        }
       ],
       "type": "table"
      }
     },
     "output_type": "display_data"
    }
   ],
   "source": [
    "%sql\n",
    "\n",
    "-- Q4. What is the most purchased item on the menu and how many times was it purchased by all customers?\n",
    "\n",
    "SELECT \n",
    "  m.product_name,\n",
    "  COUNT(s.product_id) AS total_purchases\n",
    "FROM \n",
    "  sales s\n",
    "INNER JOIN \n",
    "  menu m\n",
    "ON \n",
    "  s.product_id = m.product_id\n",
    "GROUP BY \n",
    "  1\n",
    "ORDER BY \n",
    "  total_purchases DESC\n",
    "LIMIT 1;"
   ]
  },
  {
   "cell_type": "code",
   "execution_count": 0,
   "metadata": {
    "application/vnd.databricks.v1+cell": {
     "cellMetadata": {
      "byteLimit": 2048000,
      "implicitDf": true,
      "rowLimit": 10000
     },
     "inputWidgets": {},
     "nuid": "bc1341df-400f-4d27-a33b-c3e94b1974bd",
     "showTitle": false,
     "title": ""
    }
   },
   "outputs": [
    {
     "output_type": "display_data",
     "data": {
      "text/html": [
       "<style scoped>\n",
       "  .table-result-container {\n",
       "    max-height: 300px;\n",
       "    overflow: auto;\n",
       "  }\n",
       "  table, th, td {\n",
       "    border: 1px solid black;\n",
       "    border-collapse: collapse;\n",
       "  }\n",
       "  th, td {\n",
       "    padding: 5px;\n",
       "  }\n",
       "  th {\n",
       "    text-align: left;\n",
       "  }\n",
       "</style><div class='table-result-container'><table class='table-result'><thead style='background-color: white'><tr><th>customer_id</th><th>product_name</th><th>count_of_order</th></tr></thead><tbody><tr><td>A</td><td>ramen</td><td>3</td></tr><tr><td>B</td><td>sushi</td><td>2</td></tr><tr><td>C</td><td>ramen</td><td>3</td></tr></tbody></table></div>"
      ]
     },
     "metadata": {
      "application/vnd.databricks.v1+output": {
       "addedWidgets": {},
       "aggData": [],
       "aggError": "",
       "aggOverflow": false,
       "aggSchema": [],
       "aggSeriesLimitReached": false,
       "aggType": "",
       "arguments": {},
       "columnCustomDisplayInfos": {},
       "data": [
        [
         "A",
         "ramen",
         3
        ],
        [
         "B",
         "sushi",
         2
        ],
        [
         "C",
         "ramen",
         3
        ]
       ],
       "datasetInfos": [],
       "dbfsResultPath": null,
       "isJsonSchema": true,
       "metadata": {
        "dataframeName": "_sqldf",
        "executionCount": 70
       },
       "overflow": false,
       "plotOptions": {
        "customPlotOptions": {},
        "displayType": "table",
        "pivotAggregation": null,
        "pivotColumns": null,
        "xColumns": null,
        "yColumns": null
       },
       "removedWidgets": [],
       "schema": [
        {
         "metadata": "{\"__CHAR_VARCHAR_TYPE_STRING\":\"varchar(1)\"}",
         "name": "customer_id",
         "type": "\"string\""
        },
        {
         "metadata": "{\"__CHAR_VARCHAR_TYPE_STRING\":\"varchar(5)\"}",
         "name": "product_name",
         "type": "\"string\""
        },
        {
         "metadata": "{}",
         "name": "count_of_order",
         "type": "\"long\""
        }
       ],
       "type": "table"
      }
     },
     "output_type": "display_data"
    }
   ],
   "source": [
    "%sql\n",
    "\n",
    "--Q5. Which item was the most popular for each customer?\n",
    "\n",
    "SELECT\n",
    "  customer_id,\n",
    "  product_name,\n",
    "  count_of_order\n",
    "FROM (\n",
    "  SELECT\n",
    "    customer_id,\n",
    "    product_name,\n",
    "    count_of_order,\n",
    "    row_number() OVER (PARTITION BY customer_id ORDER BY customer_id) AS rnum\n",
    "  FROM (\n",
    "    SELECT\n",
    "      customer_id,\n",
    "      product_name,\n",
    "      count_of_order,\n",
    "      RANK() OVER (PARTITION BY customer_id ORDER BY count_of_order DESC) AS rnk\n",
    "    FROM (\n",
    "      SELECT\n",
    "        customer_id,\n",
    "        product_name,\n",
    "        MAX(Count_of_orders) OVER (PARTITION BY customer_id ORDER BY product_id) AS count_of_order\n",
    "      FROM (\n",
    "        SELECT\n",
    "          s.customer_id,\n",
    "          s.product_id,\n",
    "          m.product_name,\n",
    "          COUNT(s.product_id) AS Count_of_orders\n",
    "        FROM \n",
    "          sales s\n",
    "        LEFT JOIN \n",
    "          menu m\n",
    "        ON \n",
    "          s.product_id = m.product_id\n",
    "        GROUP BY \n",
    "          1, 2, 3\n",
    "      )\n",
    "      GROUP BY \n",
    "        customer_id, product_name, product_id, Count_of_orders\n",
    "      ORDER BY \n",
    "        customer_id, count_of_order DESC\n",
    "    )\n",
    "  )\n",
    "  WHERE rnk = 1\n",
    ")\n",
    "WHERE rnum = 1;\n"
   ]
  },
  {
   "cell_type": "code",
   "execution_count": 0,
   "metadata": {
    "application/vnd.databricks.v1+cell": {
     "cellMetadata": {
      "byteLimit": 2048000,
      "implicitDf": true,
      "rowLimit": 10000
     },
     "inputWidgets": {},
     "nuid": "e4ad6bb0-100d-4a4e-8c00-43cfd153cbe5",
     "showTitle": false,
     "title": ""
    }
   },
   "outputs": [
    {
     "output_type": "display_data",
     "data": {
      "text/html": [
       "<style scoped>\n",
       "  .table-result-container {\n",
       "    max-height: 300px;\n",
       "    overflow: auto;\n",
       "  }\n",
       "  table, th, td {\n",
       "    border: 1px solid black;\n",
       "    border-collapse: collapse;\n",
       "  }\n",
       "  th, td {\n",
       "    padding: 5px;\n",
       "  }\n",
       "  th {\n",
       "    text-align: left;\n",
       "  }\n",
       "</style><div class='table-result-container'><table class='table-result'><thead style='background-color: white'><tr><th>customer_id</th><th>first_thing_oredered_after_becoming_member</th></tr></thead><tbody><tr><td>A</td><td>curry</td></tr><tr><td>B</td><td>sushi</td></tr></tbody></table></div>"
      ]
     },
     "metadata": {
      "application/vnd.databricks.v1+output": {
       "addedWidgets": {},
       "aggData": [],
       "aggError": "",
       "aggOverflow": false,
       "aggSchema": [],
       "aggSeriesLimitReached": false,
       "aggType": "",
       "arguments": {},
       "columnCustomDisplayInfos": {},
       "data": [
        [
         "A",
         "curry"
        ],
        [
         "B",
         "sushi"
        ]
       ],
       "datasetInfos": [],
       "dbfsResultPath": null,
       "isJsonSchema": true,
       "metadata": {
        "dataframeName": "_sqldf",
        "executionCount": 69
       },
       "overflow": false,
       "plotOptions": {
        "customPlotOptions": {},
        "displayType": "table",
        "pivotAggregation": null,
        "pivotColumns": null,
        "xColumns": null,
        "yColumns": null
       },
       "removedWidgets": [],
       "schema": [
        {
         "metadata": "{\"__CHAR_VARCHAR_TYPE_STRING\":\"varchar(1)\"}",
         "name": "customer_id",
         "type": "\"string\""
        },
        {
         "metadata": "{\"__CHAR_VARCHAR_TYPE_STRING\":\"varchar(5)\"}",
         "name": "first_thing_oredered_after_becoming_member",
         "type": "\"string\""
        }
       ],
       "type": "table"
      }
     },
     "output_type": "display_data"
    }
   ],
   "source": [
    " %sql\n",
    "\n",
    " -- Q6. Which item was purchased first by the customer after they became a member?\n",
    "SELECT\n",
    "  customer_id,\n",
    "  product_name as first_thing_oredered_after_becoming_member\n",
    "FROM (\n",
    "        SELECT\n",
    "          customer_id,\n",
    "          product_name,\n",
    "          row_number() OVER (PARTITION BY customer_id ORDER BY order_date) as rnum\n",
    "        FROM (\n",
    "                SELECT\n",
    "                  j.customer_id,\n",
    "                  j.order_date,\n",
    "                  j.product_name,\n",
    "                  mb.join_date\n",
    "                FROM (\n",
    "                  SELECT\n",
    "                    s.customer_id,\n",
    "                    s.order_date,\n",
    "                    s.product_id,\n",
    "                    m.product_name\n",
    "                  FROM sales s\n",
    "                  LEFT JOIN menu m\n",
    "                  ON s.product_id = m.product_id\n",
    "            ) j\n",
    "            LEFT JOIN members mb\n",
    "            ON j.customer_id = mb.customer_id\n",
    "            WHERE \n",
    "              mb.join_date is NOT NULL\n",
    "              AND j.order_date >= mb.join_date\n",
    "        )\n",
    ")\n",
    "WHERE rnum = 1;"
   ]
  },
  {
   "cell_type": "code",
   "execution_count": 0,
   "metadata": {
    "application/vnd.databricks.v1+cell": {
     "cellMetadata": {
      "byteLimit": 2048000,
      "implicitDf": true,
      "rowLimit": 10000
     },
     "inputWidgets": {},
     "nuid": "f8ba2c57-10e0-406a-9e4d-274fe388ecb9",
     "showTitle": false,
     "title": ""
    }
   },
   "outputs": [
    {
     "output_type": "display_data",
     "data": {
      "text/html": [
       "<style scoped>\n",
       "  .table-result-container {\n",
       "    max-height: 300px;\n",
       "    overflow: auto;\n",
       "  }\n",
       "  table, th, td {\n",
       "    border: 1px solid black;\n",
       "    border-collapse: collapse;\n",
       "  }\n",
       "  th, td {\n",
       "    padding: 5px;\n",
       "  }\n",
       "  th {\n",
       "    text-align: left;\n",
       "  }\n",
       "</style><div class='table-result-container'><table class='table-result'><thead style='background-color: white'><tr><th>customer_id</th><th>product_name</th></tr></thead><tbody><tr><td>A</td><td>sushi</td></tr><tr><td>B</td><td>sushi</td></tr></tbody></table></div>"
      ]
     },
     "metadata": {
      "application/vnd.databricks.v1+output": {
       "addedWidgets": {},
       "aggData": [],
       "aggError": "",
       "aggOverflow": false,
       "aggSchema": [],
       "aggSeriesLimitReached": false,
       "aggType": "",
       "arguments": {},
       "columnCustomDisplayInfos": {},
       "data": [
        [
         "A",
         "sushi"
        ],
        [
         "B",
         "sushi"
        ]
       ],
       "datasetInfos": [],
       "dbfsResultPath": null,
       "isJsonSchema": true,
       "metadata": {
        "dataframeName": "_sqldf",
        "executionCount": 9
       },
       "overflow": false,
       "plotOptions": {
        "customPlotOptions": {},
        "displayType": "table",
        "pivotAggregation": null,
        "pivotColumns": null,
        "xColumns": null,
        "yColumns": null
       },
       "removedWidgets": [],
       "schema": [
        {
         "metadata": "{\"__CHAR_VARCHAR_TYPE_STRING\":\"varchar(1)\"}",
         "name": "customer_id",
         "type": "\"string\""
        },
        {
         "metadata": "{\"__CHAR_VARCHAR_TYPE_STRING\":\"varchar(5)\"}",
         "name": "product_name",
         "type": "\"string\""
        }
       ],
       "type": "table"
      }
     },
     "output_type": "display_data"
    }
   ],
   "source": [
    "%sql\n",
    "\n",
    "--Q7. Which item was purchased just before the customer became a member?\n",
    "\n",
    "SELECT\n",
    "  customer_id,\n",
    "  product_name\n",
    "FROM (\n",
    "      SELECT\n",
    "        customer_id,\n",
    "        product_name,\n",
    "        order_date,\n",
    "        row_number() OVER (PARTITION BY customer_id ORDER BY order_date DESC) as rnum\n",
    "      FROM (\n",
    "              SELECT\n",
    "                j.customer_id,\n",
    "                j.order_date,\n",
    "                j.product_name,\n",
    "                mb.join_date\n",
    "              FROM (\n",
    "                SELECT\n",
    "                  s.customer_id,\n",
    "                  s.order_date,\n",
    "                  s.product_id,\n",
    "                  m.product_name\n",
    "                FROM sales s\n",
    "                LEFT JOIN menu m\n",
    "                ON s.product_id = m.product_id\n",
    "          ) j\n",
    "          LEFT JOIN members mb\n",
    "          ON j.customer_id = mb.customer_id\n",
    "          WHERE \n",
    "            mb.join_date is NOT NULL\n",
    "            AND j.order_date < mb.join_date\n",
    "      )\n",
    ")\n",
    "WHERE rnum = 1;"
   ]
  },
  {
   "cell_type": "code",
   "execution_count": 0,
   "metadata": {
    "application/vnd.databricks.v1+cell": {
     "cellMetadata": {
      "byteLimit": 2048000,
      "implicitDf": true,
      "rowLimit": 10000
     },
     "inputWidgets": {},
     "nuid": "72280d2a-cb9b-4459-a361-7c4fd4b49924",
     "showTitle": false,
     "title": ""
    }
   },
   "outputs": [
    {
     "output_type": "display_data",
     "data": {
      "text/html": [
       "<style scoped>\n",
       "  .table-result-container {\n",
       "    max-height: 300px;\n",
       "    overflow: auto;\n",
       "  }\n",
       "  table, th, td {\n",
       "    border: 1px solid black;\n",
       "    border-collapse: collapse;\n",
       "  }\n",
       "  th, td {\n",
       "    padding: 5px;\n",
       "  }\n",
       "  th {\n",
       "    text-align: left;\n",
       "  }\n",
       "</style><div class='table-result-container'><table class='table-result'><thead style='background-color: white'><tr><th>customer_id</th><th>total_items</th><th>total_amount_spent</th></tr></thead><tbody><tr><td>A</td><td>2</td><td>25</td></tr><tr><td>B</td><td>3</td><td>40</td></tr></tbody></table></div>"
      ]
     },
     "metadata": {
      "application/vnd.databricks.v1+output": {
       "addedWidgets": {},
       "aggData": [],
       "aggError": "",
       "aggOverflow": false,
       "aggSchema": [],
       "aggSeriesLimitReached": false,
       "aggType": "",
       "arguments": {},
       "columnCustomDisplayInfos": {},
       "data": [
        [
         "A",
         2,
         25
        ],
        [
         "B",
         3,
         40
        ]
       ],
       "datasetInfos": [],
       "dbfsResultPath": null,
       "isJsonSchema": true,
       "metadata": {
        "dataframeName": "_sqldf",
        "executionCount": 22
       },
       "overflow": false,
       "plotOptions": {
        "customPlotOptions": {},
        "displayType": "table",
        "pivotAggregation": null,
        "pivotColumns": null,
        "xColumns": null,
        "yColumns": null
       },
       "removedWidgets": [],
       "schema": [
        {
         "metadata": "{\"__CHAR_VARCHAR_TYPE_STRING\":\"varchar(1)\"}",
         "name": "customer_id",
         "type": "\"string\""
        },
        {
         "metadata": "{}",
         "name": "total_items",
         "type": "\"long\""
        },
        {
         "metadata": "{}",
         "name": "total_amount_spent",
         "type": "\"long\""
        }
       ],
       "type": "table"
      }
     },
     "output_type": "display_data"
    }
   ],
   "source": [
    "%sql\n",
    "\n",
    "--Q8 What is the total items and amount spent for each member before they became a member?\n",
    "\n",
    "SELECT\n",
    "customer_id,\n",
    "count(product_name) as total_items,\n",
    "sum(price) as total_amount_spent\n",
    "FROM (\n",
    "  SELECT\n",
    "    j.customer_id,\n",
    "    j.order_date,\n",
    "    j.product_name,\n",
    "    j.price,\n",
    "    mb.join_date\n",
    "  FROM (\n",
    "    SELECT\n",
    "      s.customer_id,\n",
    "      s.order_date,\n",
    "      s.product_id,\n",
    "      m.product_name,\n",
    "      m.price\n",
    "    FROM sales s\n",
    "    LEFT JOIN menu m\n",
    "    ON s.product_id = m.product_id\n",
    "  ) j\n",
    "  LEFT JOIN members mb\n",
    "  ON j.customer_id = mb.customer_id\n",
    "  WHERE j.order_date < mb.join_date\n",
    ")\n",
    "GROUP BY customer_id\n",
    "ORDER BY customer_id;"
   ]
  },
  {
   "cell_type": "code",
   "execution_count": 0,
   "metadata": {
    "application/vnd.databricks.v1+cell": {
     "cellMetadata": {
      "byteLimit": 2048000,
      "implicitDf": true,
      "rowLimit": 10000
     },
     "inputWidgets": {},
     "nuid": "53193bfd-d652-4c36-a39b-5eea0e0660ae",
     "showTitle": false,
     "title": ""
    }
   },
   "outputs": [
    {
     "output_type": "display_data",
     "data": {
      "text/html": [
       "<style scoped>\n",
       "  .table-result-container {\n",
       "    max-height: 300px;\n",
       "    overflow: auto;\n",
       "  }\n",
       "  table, th, td {\n",
       "    border: 1px solid black;\n",
       "    border-collapse: collapse;\n",
       "  }\n",
       "  th, td {\n",
       "    padding: 5px;\n",
       "  }\n",
       "  th {\n",
       "    text-align: left;\n",
       "  }\n",
       "</style><div class='table-result-container'><table class='table-result'><thead style='background-color: white'><tr><th>customer_id</th><th>total_points</th></tr></thead><tbody><tr><td>B</td><td>940</td></tr><tr><td>A</td><td>860</td></tr><tr><td>C</td><td>360</td></tr></tbody></table></div>"
      ]
     },
     "metadata": {
      "application/vnd.databricks.v1+output": {
       "addedWidgets": {},
       "aggData": [],
       "aggError": "",
       "aggOverflow": false,
       "aggSchema": [],
       "aggSeriesLimitReached": false,
       "aggType": "",
       "arguments": {},
       "columnCustomDisplayInfos": {},
       "data": [
        [
         "B",
         940
        ],
        [
         "A",
         860
        ],
        [
         "C",
         360
        ]
       ],
       "datasetInfos": [],
       "dbfsResultPath": null,
       "isJsonSchema": true,
       "metadata": {
        "dataframeName": "_sqldf",
        "executionCount": 24
       },
       "overflow": false,
       "plotOptions": {
        "customPlotOptions": {},
        "displayType": "table",
        "pivotAggregation": null,
        "pivotColumns": null,
        "xColumns": null,
        "yColumns": null
       },
       "removedWidgets": [],
       "schema": [
        {
         "metadata": "{\"__CHAR_VARCHAR_TYPE_STRING\":\"varchar(1)\"}",
         "name": "customer_id",
         "type": "\"string\""
        },
        {
         "metadata": "{}",
         "name": "total_points",
         "type": "\"long\""
        }
       ],
       "type": "table"
      }
     },
     "output_type": "display_data"
    }
   ],
   "source": [
    "%sql\n",
    "\n",
    "--Q9. If each $1 spent equates to 10 points and sushi has a 2x points multiplier - how many points would each customer have?\n",
    "\n",
    "SELECT\n",
    "  customer_id,\n",
    "  sum(price * points_of_one_dollar * multiplier) as total_points\n",
    "FROM (\n",
    "  SELECT\n",
    "    s.customer_id,\n",
    "    s.product_id,\n",
    "    s.order_date,\n",
    "    m.product_name,\n",
    "    m.price,\n",
    "    10 as points_of_one_dollar,\n",
    "    (Case when m.product_name = 'sushi' then 2 else 1 end) as multiplier\n",
    "  FROM sales s\n",
    "  LEFT JOIN menu m\n",
    "  ON s.product_id = m.product_id\n",
    ")\n",
    "GROUP BY customer_id\n",
    "ORDER BY total_points DESC;"
   ]
  },
  {
   "cell_type": "code",
   "execution_count": 0,
   "metadata": {
    "application/vnd.databricks.v1+cell": {
     "cellMetadata": {
      "byteLimit": 2048000,
      "implicitDf": true,
      "rowLimit": 10000
     },
     "inputWidgets": {},
     "nuid": "aefa68a8-0d13-40ab-b8de-4a2725bdd1fe",
     "showTitle": false,
     "title": ""
    }
   },
   "outputs": [
    {
     "output_type": "display_data",
     "data": {
      "text/html": [
       "<style scoped>\n",
       "  .table-result-container {\n",
       "    max-height: 300px;\n",
       "    overflow: auto;\n",
       "  }\n",
       "  table, th, td {\n",
       "    border: 1px solid black;\n",
       "    border-collapse: collapse;\n",
       "  }\n",
       "  th, td {\n",
       "    padding: 5px;\n",
       "  }\n",
       "  th {\n",
       "    text-align: left;\n",
       "  }\n",
       "</style><div class='table-result-container'><table class='table-result'><thead style='background-color: white'><tr><th>customer_id</th><th>month</th><th>total_points</th></tr></thead><tbody><tr><td>A</td><td>January</td><td>1370</td></tr><tr><td>B</td><td>January</td><td>940</td></tr></tbody></table></div>"
      ]
     },
     "metadata": {
      "application/vnd.databricks.v1+output": {
       "addedWidgets": {},
       "aggData": [],
       "aggError": "",
       "aggOverflow": false,
       "aggSchema": [],
       "aggSeriesLimitReached": false,
       "aggType": "",
       "arguments": {},
       "columnCustomDisplayInfos": {},
       "data": [
        [
         "A",
         "January",
         1370
        ],
        [
         "B",
         "January",
         940
        ]
       ],
       "datasetInfos": [],
       "dbfsResultPath": null,
       "isJsonSchema": true,
       "metadata": {
        "dataframeName": "_sqldf",
        "executionCount": 33
       },
       "overflow": false,
       "plotOptions": {
        "customPlotOptions": {},
        "displayType": "table",
        "pivotAggregation": null,
        "pivotColumns": null,
        "xColumns": null,
        "yColumns": null
       },
       "removedWidgets": [],
       "schema": [
        {
         "metadata": "{\"__CHAR_VARCHAR_TYPE_STRING\":\"varchar(1)\"}",
         "name": "customer_id",
         "type": "\"string\""
        },
        {
         "metadata": "{}",
         "name": "month",
         "type": "\"string\""
        },
        {
         "metadata": "{}",
         "name": "total_points",
         "type": "\"long\""
        }
       ],
       "type": "table"
      }
     },
     "output_type": "display_data"
    }
   ],
   "source": [
    "%sql\n",
    "\n",
    "--Q10. In the first week after a customer joins the program (including their join date) they earn 2x points on all items, not just sushi - how many points do customer A and B have at the end of January?\n",
    "SELECT\n",
    "  customer_id,\n",
    "  month,\n",
    "  sum(price * points_of_one_dollar * multiplier) as total_points\n",
    "FROM (\n",
    "    SELECT\n",
    "      bt.customer_id,\n",
    "      bt.product_id,\n",
    "      bt.order_date,\n",
    "      bt.product_name,\n",
    "      bt.price,\n",
    "      bt.points_of_one_dollar,\n",
    "      (case \n",
    "          when \n",
    "              bt.order_date >= mb.join_date \n",
    "              AND\n",
    "              bt.order_date <= date_add(mb.join_date, 7) \n",
    "          Then 2 \n",
    "          else bt.multiplier \n",
    "      end) as multiplier,\n",
    "      mb.join_date,\n",
    "      date_format(bt.order_date, 'MMMM') as month\n",
    "    FROM (\n",
    "      SELECT\n",
    "        s.customer_id,\n",
    "        s.product_id,\n",
    "        s.order_date,\n",
    "        m.product_name,\n",
    "        m.price,\n",
    "        10 as points_of_one_dollar,\n",
    "        (Case when m.product_name = 'sushi' then 2 else 1 end) as multiplier\n",
    "      FROM sales s\n",
    "      LEFT JOIN menu m\n",
    "      ON s.product_id = m.product_id\n",
    "    ) bt\n",
    "    LEFT JOIN members mb\n",
    "    ON bt.customer_id = mb.customer_id\n",
    ")\n",
    "WHERE join_date is not null and month = 'January'\n",
    "GROUP BY customer_id,month\n",
    "ORDER BY customer_id;"
   ]
  },
  {
   "cell_type": "markdown",
   "metadata": {
    "application/vnd.databricks.v1+cell": {
     "cellMetadata": {},
     "inputWidgets": {},
     "nuid": "24c536cf-4eb6-43ea-a3bc-5cd0601ca0b3",
     "showTitle": false,
     "title": ""
    }
   },
   "source": [
    "## Bonus Questions\n",
    "\n",
    "#### Join All The Things\n",
    "\n",
    "The following questions are related creating basic data tables that Danny and his team can use to quickly derive insights without needing to join the underlying tables using SQL.\n",
    "\n",
    "Recreate the following table output using the available data:\n",
    "\n",
    "| customer_id | order_date | product_name | price | member |\n",
    "|-------------|------------|--------------|-------|--------|\n",
    "| A           | 2021-01-01 | curry        | 15    | N      |\n",
    "| A           | 2021-01-01 | sushi        | 10    | N      |\n",
    "| A           | 2021-01-07 | curry        | 15    | Y      |\n",
    "| A           | 2021-01-10 | ramen        | 12    | Y      |\n",
    "| A           | 2021-01-11 | ramen        | 12    | Y      |\n",
    "| A           | 2021-01-11 | ramen        | 12    | Y      |\n",
    "| B           | 2021-01-01 | curry        | 15    | N      |\n",
    "| B           | 2021-01-02 | curry        | 15    | N      |\n",
    "| B           | 2021-01-04 | sushi        | 10    | N      |\n",
    "| B           | 2021-01-11 | sushi        | 10    | Y      |\n",
    "| B           | 2021-01-16 | ramen        | 12    | Y      |\n",
    "| B           | 2021-02-01 | ramen        | 12    | Y      |\n",
    "| C           | 2021-01-01 | ramen        | 12    | N      |\n",
    "| C           | 2021-01-01 | ramen        | 12    | N      |\n",
    "| C           | 2021-01-07 | ramen        | 12    | N      |"
   ]
  },
  {
   "cell_type": "code",
   "execution_count": 0,
   "metadata": {
    "application/vnd.databricks.v1+cell": {
     "cellMetadata": {
      "byteLimit": 2048000,
      "implicitDf": true,
      "rowLimit": 10000
     },
     "inputWidgets": {},
     "nuid": "85794b04-67ce-440e-a678-0d295a8737f2",
     "showTitle": false,
     "title": ""
    }
   },
   "outputs": [
    {
     "output_type": "display_data",
     "data": {
      "text/html": [
       "<style scoped>\n",
       "  .table-result-container {\n",
       "    max-height: 300px;\n",
       "    overflow: auto;\n",
       "  }\n",
       "  table, th, td {\n",
       "    border: 1px solid black;\n",
       "    border-collapse: collapse;\n",
       "  }\n",
       "  th, td {\n",
       "    padding: 5px;\n",
       "  }\n",
       "  th {\n",
       "    text-align: left;\n",
       "  }\n",
       "</style><div class='table-result-container'><table class='table-result'><thead style='background-color: white'><tr><th>num_affected_rows</th><th>num_inserted_rows</th></tr></thead><tbody></tbody></table></div>"
      ]
     },
     "metadata": {
      "application/vnd.databricks.v1+output": {
       "addedWidgets": {},
       "aggData": [],
       "aggError": "",
       "aggOverflow": false,
       "aggSchema": [],
       "aggSeriesLimitReached": false,
       "aggType": "",
       "arguments": {},
       "columnCustomDisplayInfos": {},
       "data": [],
       "datasetInfos": [],
       "dbfsResultPath": null,
       "isJsonSchema": true,
       "metadata": {
        "dataframeName": "_sqldf",
        "executionCount": 9
       },
       "overflow": false,
       "plotOptions": {
        "customPlotOptions": {},
        "displayType": "table",
        "pivotAggregation": null,
        "pivotColumns": null,
        "xColumns": null,
        "yColumns": null
       },
       "removedWidgets": [],
       "schema": [
        {
         "metadata": "{}",
         "name": "num_affected_rows",
         "type": "\"long\""
        },
        {
         "metadata": "{}",
         "name": "num_inserted_rows",
         "type": "\"long\""
        }
       ],
       "type": "table"
      }
     },
     "output_type": "display_data"
    }
   ],
   "source": [
    "%sql\n",
    "\n",
    "\n",
    "SELECT\n",
    "customer_id,\n",
    "order_date,\n",
    "product_name,\n",
    "price,\n",
    "(Case \n",
    "  when \n",
    "    order_date >= join_date \n",
    "    and \n",
    "    order_date < date_add(join_date,365 )\n",
    "  THEN\n",
    "    'Y'\n",
    "  ELSE\n",
    "    'N'\n",
    "END\n",
    ") member\n",
    "FROM (\n",
    "  SELECT\n",
    "    j.customer_id,\n",
    "    j.order_date,\n",
    "    j.price,\n",
    "    j.product_name,\n",
    "    mb.join_date\n",
    "  FROM (\n",
    "    SELECT\n",
    "      s.customer_id,\n",
    "      s.order_date,\n",
    "      m.product_name,\n",
    "      m.price\n",
    "    FROM sales s\n",
    "    LEFT JOIN menu m\n",
    "    ON s.product_id = m.product_id\n",
    "    ORDER BY s.customer_id,s.order_date\n",
    "  ) j\n",
    "  LEFT JOIN members mb\n",
    "  ON j.customer_id = mb.customer_id\n",
    ")"
   ]
  },
  {
   "cell_type": "markdown",
   "metadata": {
    "application/vnd.databricks.v1+cell": {
     "cellMetadata": {},
     "inputWidgets": {},
     "nuid": "7d60e0c2-0b36-46ec-8b96-37b7ab49bfc3",
     "showTitle": false,
     "title": ""
    }
   },
   "source": [
    "## Rank All The Things\n",
    "\n",
    "Danny also requires further information about the ***ranking*** of customer products, but he purposely does not need the ***ranking*** for non-member purchases so he expects null ranking values for the records when customers are not yet part of the loyalty program.\n",
    "\n",
    "| customer_id | order_date | product_name | price | member | ranking |\n",
    "|-------------|------------|--------------|-------|--------|---------|\n",
    "| A           | 2021-01-01 | curry        | 15    | N      |         |\n",
    "| A           | 2021-01-01 | sushi        | 10    | N      |         |\n",
    "| A           | 2021-01-07 | curry        | 15    | Y      | 1       |\n",
    "| A           | 2021-01-10 | ramen        | 12    | Y      | 2       |\n",
    "| A           | 2021-01-11 | ramen        | 12    | Y      | 3       |\n",
    "| A           | 2021-01-11 | ramen        | 12    | Y      | 3       |\n",
    "| B           | 2021-01-01 | curry        | 15    | N      |         |\n",
    "| B           | 2021-01-02 | curry        | 15    | N      |         |\n",
    "| B           | 2021-01-04 | sushi        | 10    | N      |         |\n",
    "| B           | 2021-01-11 | sushi        | 10    | Y      | 1       |\n",
    "| B           | 2021-01-16 | ramen        | 12    | Y      | 2       |\n",
    "| B           | 2021-02-01 | ramen        | 12    | Y      | 3       |\n",
    "| C           | 2021-01-01 | ramen        | 12    | N      |         |\n",
    "| C           | 2021-01-01 | ramen        | 12    | N      |         |\n",
    "| C           | 2021-01-07 | ramen        | 12    | N      |         |"
   ]
  },
  {
   "cell_type": "code",
   "execution_count": 0,
   "metadata": {
    "application/vnd.databricks.v1+cell": {
     "cellMetadata": {
      "byteLimit": 2048000,
      "implicitDf": true,
      "rowLimit": 10000
     },
     "inputWidgets": {},
     "nuid": "6843769a-c1fb-43d9-b93b-dfcf52b17aed",
     "showTitle": false,
     "title": ""
    }
   },
   "outputs": [
    {
     "output_type": "display_data",
     "data": {
      "text/html": [
       "<style scoped>\n",
       "  .table-result-container {\n",
       "    max-height: 300px;\n",
       "    overflow: auto;\n",
       "  }\n",
       "  table, th, td {\n",
       "    border: 1px solid black;\n",
       "    border-collapse: collapse;\n",
       "  }\n",
       "  th, td {\n",
       "    padding: 5px;\n",
       "  }\n",
       "  th {\n",
       "    text-align: left;\n",
       "  }\n",
       "</style><div class='table-result-container'><table class='table-result'><thead style='background-color: white'><tr><th>customer_id</th><th>order_date</th><th>product_name</th><th>price</th><th>member</th><th>ranking</th></tr></thead><tbody><tr><td>A</td><td>2021-01-01</td><td>sushi</td><td>10</td><td>N</td><td>null</td></tr><tr><td>A</td><td>2021-01-01</td><td>curry</td><td>15</td><td>N</td><td>null</td></tr><tr><td>A</td><td>2021-01-07</td><td>curry</td><td>15</td><td>Y</td><td>1</td></tr><tr><td>A</td><td>2021-01-10</td><td>ramen</td><td>12</td><td>Y</td><td>2</td></tr><tr><td>A</td><td>2021-01-11</td><td>ramen</td><td>12</td><td>Y</td><td>3</td></tr><tr><td>A</td><td>2021-01-11</td><td>ramen</td><td>12</td><td>Y</td><td>3</td></tr><tr><td>B</td><td>2021-01-01</td><td>curry</td><td>15</td><td>N</td><td>null</td></tr><tr><td>B</td><td>2021-01-02</td><td>curry</td><td>15</td><td>N</td><td>null</td></tr><tr><td>B</td><td>2021-01-04</td><td>sushi</td><td>10</td><td>N</td><td>null</td></tr><tr><td>B</td><td>2021-01-11</td><td>sushi</td><td>10</td><td>Y</td><td>1</td></tr><tr><td>B</td><td>2021-01-16</td><td>ramen</td><td>12</td><td>Y</td><td>2</td></tr><tr><td>B</td><td>2021-02-01</td><td>ramen</td><td>12</td><td>Y</td><td>3</td></tr><tr><td>C</td><td>2021-01-01</td><td>ramen</td><td>12</td><td>N</td><td>null</td></tr><tr><td>C</td><td>2021-01-01</td><td>ramen</td><td>12</td><td>N</td><td>null</td></tr><tr><td>C</td><td>2021-01-07</td><td>ramen</td><td>12</td><td>N</td><td>null</td></tr></tbody></table></div>"
      ]
     },
     "metadata": {
      "application/vnd.databricks.v1+output": {
       "addedWidgets": {},
       "aggData": [],
       "aggError": "",
       "aggOverflow": false,
       "aggSchema": [],
       "aggSeriesLimitReached": false,
       "aggType": "",
       "arguments": {},
       "columnCustomDisplayInfos": {},
       "data": [
        [
         "A",
         "2021-01-01",
         "sushi",
         10,
         "N",
         null
        ],
        [
         "A",
         "2021-01-01",
         "curry",
         15,
         "N",
         null
        ],
        [
         "A",
         "2021-01-07",
         "curry",
         15,
         "Y",
         1
        ],
        [
         "A",
         "2021-01-10",
         "ramen",
         12,
         "Y",
         2
        ],
        [
         "A",
         "2021-01-11",
         "ramen",
         12,
         "Y",
         3
        ],
        [
         "A",
         "2021-01-11",
         "ramen",
         12,
         "Y",
         3
        ],
        [
         "B",
         "2021-01-01",
         "curry",
         15,
         "N",
         null
        ],
        [
         "B",
         "2021-01-02",
         "curry",
         15,
         "N",
         null
        ],
        [
         "B",
         "2021-01-04",
         "sushi",
         10,
         "N",
         null
        ],
        [
         "B",
         "2021-01-11",
         "sushi",
         10,
         "Y",
         1
        ],
        [
         "B",
         "2021-01-16",
         "ramen",
         12,
         "Y",
         2
        ],
        [
         "B",
         "2021-02-01",
         "ramen",
         12,
         "Y",
         3
        ],
        [
         "C",
         "2021-01-01",
         "ramen",
         12,
         "N",
         null
        ],
        [
         "C",
         "2021-01-01",
         "ramen",
         12,
         "N",
         null
        ],
        [
         "C",
         "2021-01-07",
         "ramen",
         12,
         "N",
         null
        ]
       ],
       "datasetInfos": [],
       "dbfsResultPath": null,
       "isJsonSchema": true,
       "metadata": {
        "dataframeName": "_sqldf",
        "executionCount": 36
       },
       "overflow": false,
       "plotOptions": {
        "customPlotOptions": {},
        "displayType": "table",
        "pivotAggregation": null,
        "pivotColumns": null,
        "xColumns": null,
        "yColumns": null
       },
       "removedWidgets": [],
       "schema": [
        {
         "metadata": "{\"__CHAR_VARCHAR_TYPE_STRING\":\"varchar(1)\"}",
         "name": "customer_id",
         "type": "\"string\""
        },
        {
         "metadata": "{}",
         "name": "order_date",
         "type": "\"date\""
        },
        {
         "metadata": "{\"__CHAR_VARCHAR_TYPE_STRING\":\"varchar(5)\"}",
         "name": "product_name",
         "type": "\"string\""
        },
        {
         "metadata": "{}",
         "name": "price",
         "type": "\"integer\""
        },
        {
         "metadata": "{}",
         "name": "member",
         "type": "\"string\""
        },
        {
         "metadata": "{}",
         "name": "ranking",
         "type": "\"integer\""
        }
       ],
       "type": "table"
      }
     },
     "output_type": "display_data"
    }
   ],
   "source": [
    "%sql\n",
    "\n",
    "CREATE TABLE IF NOT EXISTS base_table(\n",
    "    SELECT\n",
    "    customer_id,\n",
    "    order_date,\n",
    "    product_name,\n",
    "    price,\n",
    "    (Case \n",
    "      when \n",
    "        order_date >= join_date \n",
    "        and \n",
    "        order_date < date_add(join_date,365 )\n",
    "      THEN\n",
    "        'Y'\n",
    "      ELSE\n",
    "        'N'\n",
    "    END\n",
    "    ) member\n",
    "    FROM (\n",
    "      SELECT\n",
    "        j.customer_id,\n",
    "        j.order_date,\n",
    "        j.price,\n",
    "        j.product_name,\n",
    "        mb.join_date\n",
    "      FROM (\n",
    "        SELECT\n",
    "          s.customer_id,\n",
    "          s.order_date,\n",
    "          m.product_name,\n",
    "          m.price\n",
    "        FROM sales s\n",
    "        LEFT JOIN menu m\n",
    "        ON s.product_id = m.product_id\n",
    "        ORDER BY s.customer_id,s.order_date\n",
    "      ) j\n",
    "      LEFT JOIN members mb\n",
    "      ON j.customer_id = mb.customer_id\n",
    "    )\n",
    ");\n",
    "\n",
    "\n",
    "\n",
    "With member_Y AS (\n",
    "      SELECT\n",
    "        customer_id,\n",
    "        order_date,\n",
    "        product_name,\n",
    "        price,\n",
    "        member,\n",
    "        rank() OVER (PARTITION BY customer_id ORDER BY order_date) as ranking\n",
    "      FROM base_table\n",
    "      WHERE member = 'Y'\n",
    ")\n",
    "\n",
    "SELECT \n",
    "  customer_id,\n",
    "  order_date,\n",
    "  product_name,\n",
    "  price,\n",
    "  member,\n",
    "  ranking \n",
    "FROM (\n",
    "    (SELECT\n",
    "      customer_id,\n",
    "      order_date,\n",
    "      product_name,\n",
    "      price,\n",
    "      member,\n",
    "      Null as ranking\n",
    "    FROM base_table\n",
    "    WHERE member = 'N')\n",
    "    UNION all\n",
    "    (SELECT \n",
    "      customer_id,\n",
    "      order_date,\n",
    "      product_name,\n",
    "      price,\n",
    "      member,\n",
    "      ranking\n",
    "    FROM member_Y)\n",
    ")\n",
    "ORDER BY customer_id,order_date;"
   ]
  }
 ],
 "metadata": {
  "application/vnd.databricks.v1+notebook": {
   "dashboards": [],
   "language": "python",
   "notebookMetadata": {
    "mostRecentlyExecutedCommandWithImplicitDF": {
     "commandId": 2729538817438253,
     "dataframes": [
      "_sqldf"
     ]
    },
    "pythonIndentUnit": 4
   },
   "notebookName": "Danny's Diner Use Case",
   "widgets": {}
  }
 },
 "nbformat": 4,
 "nbformat_minor": 0
}
